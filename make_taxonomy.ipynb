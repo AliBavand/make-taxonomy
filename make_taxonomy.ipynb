{
  "nbformat": 4,
  "nbformat_minor": 0,
  "metadata": {
    "colab": {
      "provenance": []
    },
    "kernelspec": {
      "name": "python3",
      "display_name": "Python 3"
    },
    "language_info": {
      "name": "python"
    }
  },
  "cells": [
    {
      "cell_type": "markdown",
      "source": [
        "### In the below code, I want to make a hierarchical taxonomy from DBPedia's labels"
      ],
      "metadata": {
        "id": "hOIN4WOv7rjk"
      }
    },
    {
      "cell_type": "code",
      "source": [
        "import pandas as pd"
      ],
      "metadata": {
        "id": "y9jTPTZQQdBx"
      },
      "execution_count": 1,
      "outputs": []
    },
    {
      "cell_type": "code",
      "execution_count": 2,
      "metadata": {
        "id": "sVhZ27BPPngW"
      },
      "outputs": [],
      "source": [
        "data_path = \"/content/drive/MyDrive/new_data/archive (3)/DBPEDIA_train.csv\"\n",
        "depth_tree = 3 #Because In this dataset we have three different labels level\n",
        "df = pd.read_csv(data_path)"
      ]
    },
    {
      "cell_type": "markdown",
      "source": [
        "### This function is return the unique values of each column in the dataframe"
      ],
      "metadata": {
        "id": "kdUOFNEP8oXY"
      }
    },
    {
      "cell_type": "code",
      "source": [
        "def unique_data(column):\n",
        "  unique_list = column.unique().tolist()\n",
        "  return unique_list"
      ],
      "metadata": {
        "id": "AxAP1nhiQco1"
      },
      "execution_count": 9,
      "outputs": []
    },
    {
      "cell_type": "markdown",
      "source": [
        "### Because we could not use .unique() for the list, I wrote below function for returning the unique values in each list"
      ],
      "metadata": {
        "id": "QVfOeha286io"
      }
    },
    {
      "cell_type": "code",
      "source": [
        "def unique(list1):\n",
        "    # initialize a null list\n",
        "    unique_list = []\n",
        "    # traverse for all elements\n",
        "    for x in list1:\n",
        "        # check if exists in unique_list or not\n",
        "        if x not in unique_list:\n",
        "            unique_list.append(x)\n",
        "    return unique_list"
      ],
      "metadata": {
        "id": "xmACY3o9paOv"
      },
      "execution_count": 93,
      "outputs": []
    },
    {
      "cell_type": "markdown",
      "source": [
        "### In this part, I make the dictionary for parent and children labels"
      ],
      "metadata": {
        "id": "VYtnUQTz9aU9"
      }
    },
    {
      "cell_type": "code",
      "source": [
        "dic = {}\n",
        "dic[\"ROOT\"] = unique_data(df[\"l1\"])\n",
        "for i in range(depth_tree-1):\n",
        "  temp = unique_data(df[\"l\" + str(i+1)])\n",
        "  for k in range(len(temp)):\n",
        "    l = []\n",
        "    for j in range(len(df)):\n",
        "      if df.iloc[j][\"l\" + str(i+1)] == temp[k]:\n",
        "        l.append(df.iloc[j][\"l\" + str(i+2)])\n",
        "    dic[temp[k]] = unique(l)\n"
      ],
      "metadata": {
        "id": "isb1AIP0Ryf-"
      },
      "execution_count": 96,
      "outputs": []
    },
    {
      "cell_type": "markdown",
      "source": [
        "### In the end, I write below code for converting the dictionary to a hierarchy taxonomy "
      ],
      "metadata": {
        "id": "xusm3aWP9qLB"
      }
    },
    {
      "cell_type": "code",
      "source": [
        "with open(\"sample1.txt\", \"a\") as file_object:\n",
        "  for prefix, children in dic.items():\n",
        "      tmp = prefix or 'root', *children\n",
        "      print(' '.join(tmp))\n",
        "      file_object.write(' '.join(tmp))\n",
        "      file_object.write('\\n')"
      ],
      "metadata": {
        "id": "VfUZdHjja9Oj"
      },
      "execution_count": null,
      "outputs": []
    }
  ]
}